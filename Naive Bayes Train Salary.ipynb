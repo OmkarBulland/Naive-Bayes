{
 "cells": [
  {
   "cell_type": "code",
   "execution_count": 1,
   "id": "f0e39a77",
   "metadata": {
    "ExecuteTime": {
     "end_time": "2023-02-05T15:21:41.744627Z",
     "start_time": "2023-02-05T15:21:40.042194Z"
    }
   },
   "outputs": [],
   "source": [
    "import pandas as pd\n",
    "from sklearn.naive_bayes import GaussianNB\n",
    "from sklearn.preprocessing import LabelEncoder\n",
    "from sklearn.model_selection import train_test_split\n",
    "from sklearn.metrics import accuracy_score, precision_score, recall_score, f1_score\n"
   ]
  },
  {
   "cell_type": "markdown",
   "id": "81cff441",
   "metadata": {},
   "source": [
    "# TRAIN DATA"
   ]
  },
  {
   "cell_type": "code",
   "execution_count": 2,
   "id": "eef4855c",
   "metadata": {
    "ExecuteTime": {
     "end_time": "2023-02-05T15:21:41.829951Z",
     "start_time": "2023-02-05T15:21:41.747415Z"
    }
   },
   "outputs": [],
   "source": [
    "# Load the data\n",
    "df = pd.read_csv('SalaryData_Train.csv')"
   ]
  },
  {
   "cell_type": "code",
   "execution_count": 3,
   "id": "568af2b9",
   "metadata": {
    "ExecuteTime": {
     "end_time": "2023-02-05T15:21:41.913908Z",
     "start_time": "2023-02-05T15:21:41.831281Z"
    }
   },
   "outputs": [],
   "source": [
    "# Preprocessing\n",
    "# Encode categorical variables\n",
    "encoder = LabelEncoder()\n",
    "df['workclass'] = encoder.fit_transform(df['workclass'])\n",
    "df['education'] = encoder.fit_transform(df['education'])\n",
    "df['maritalstatus'] = encoder.fit_transform(df['maritalstatus'])\n",
    "df['occupation'] = encoder.fit_transform(df['occupation'])\n",
    "df['relationship'] = encoder.fit_transform(df['relationship'])\n",
    "df['race'] = encoder.fit_transform(df['race'])\n",
    "df['sex'] = encoder.fit_transform(df['sex'])\n",
    "df['native'] = encoder.fit_transform(df['native'])\n",
    "df['Salary'] = encoder.fit_transform(df['Salary'])"
   ]
  },
  {
   "cell_type": "code",
   "execution_count": 4,
   "id": "d47562f4",
   "metadata": {
    "ExecuteTime": {
     "end_time": "2023-02-05T15:21:41.947937Z",
     "start_time": "2023-02-05T15:21:41.917855Z"
    }
   },
   "outputs": [],
   "source": [
    "# Split the data into training and testing sets\n",
    "X = df.drop('Salary', axis=1)\n",
    "y = df['Salary']\n",
    "X_train, X_test, y_train, y_test = train_test_split(X, y, test_size=0.2, random_state=0)\n"
   ]
  },
  {
   "cell_type": "code",
   "execution_count": 5,
   "id": "e9281327",
   "metadata": {
    "ExecuteTime": {
     "end_time": "2023-02-05T15:21:41.996789Z",
     "start_time": "2023-02-05T15:21:41.953925Z"
    }
   },
   "outputs": [
    {
     "data": {
      "text/plain": [
       "GaussianNB()"
      ]
     },
     "execution_count": 5,
     "metadata": {},
     "output_type": "execute_result"
    }
   ],
   "source": [
    "# Train the classifier\n",
    "clf = GaussianNB()\n",
    "clf.fit(X_train, y_train)"
   ]
  },
  {
   "cell_type": "code",
   "execution_count": 6,
   "id": "828418e3",
   "metadata": {
    "ExecuteTime": {
     "end_time": "2023-02-05T15:21:42.019037Z",
     "start_time": "2023-02-05T15:21:42.003770Z"
    }
   },
   "outputs": [],
   "source": [
    "\n",
    "# Make predictions on the testing data\n",
    "y_pred = clf.predict(X_test)"
   ]
  },
  {
   "cell_type": "code",
   "execution_count": 7,
   "id": "5803b2a3",
   "metadata": {
    "ExecuteTime": {
     "end_time": "2023-02-05T15:21:42.048217Z",
     "start_time": "2023-02-05T15:21:42.019037Z"
    }
   },
   "outputs": [],
   "source": [
    "# Evaluate the performance\n",
    "accuracy = accuracy_score(y_test, y_pred)\n",
    "precision = precision_score(y_test, y_pred, average='weighted')\n",
    "recall = recall_score(y_test, y_pred, average='weighted')\n",
    "f1 = f1_score(y_test, y_pred, average='weighted')"
   ]
  },
  {
   "cell_type": "code",
   "execution_count": 8,
   "id": "bb20fbeb",
   "metadata": {
    "ExecuteTime": {
     "end_time": "2023-02-05T15:21:42.065313Z",
     "start_time": "2023-02-05T15:21:42.050351Z"
    }
   },
   "outputs": [
    {
     "name": "stdout",
     "output_type": "stream",
     "text": [
      "Accuracy: 0.7966185977125808\n",
      "Precision: 0.7795395167924648\n",
      "Recall: 0.7966185977125808\n",
      "F1-score: 0.7673347945601158\n"
     ]
    }
   ],
   "source": [
    "print('Accuracy:', accuracy)\n",
    "print('Precision:', precision)\n",
    "print('Recall:', recall)\n",
    "print('F1-score:', f1)\n",
    "\n",
    "\n",
    "\n"
   ]
  },
  {
   "cell_type": "code",
   "execution_count": null,
   "id": "0d7a2828",
   "metadata": {},
   "outputs": [],
   "source": []
  },
  {
   "cell_type": "code",
   "execution_count": null,
   "id": "ccabdbf2",
   "metadata": {},
   "outputs": [],
   "source": []
  },
  {
   "cell_type": "markdown",
   "id": "57307f5f",
   "metadata": {},
   "source": [
    "# TEST DATA"
   ]
  },
  {
   "cell_type": "code",
   "execution_count": 9,
   "id": "b9a9d5e6",
   "metadata": {
    "ExecuteTime": {
     "end_time": "2023-02-05T15:24:30.325317Z",
     "start_time": "2023-02-05T15:24:30.279365Z"
    }
   },
   "outputs": [],
   "source": [
    "# Load the test data\n",
    "df_test = pd.read_csv('SalaryData_Test.csv')"
   ]
  },
  {
   "cell_type": "code",
   "execution_count": 10,
   "id": "94ed4f2f",
   "metadata": {
    "ExecuteTime": {
     "end_time": "2023-02-05T15:24:40.000154Z",
     "start_time": "2023-02-05T15:24:39.934779Z"
    }
   },
   "outputs": [],
   "source": [
    "encoder=LabelEncoder()\n",
    "df_test['workclass'] = encoder.fit_transform(df_test['workclass'])\n",
    "df_test['education'] = encoder.fit_transform(df_test['education'])\n",
    "df_test['maritalstatus'] = encoder.fit_transform(df_test['maritalstatus'])\n",
    "df_test['occupation'] = encoder.fit_transform(df_test['occupation'])\n",
    "df_test['relationship'] = encoder.fit_transform(df_test['relationship'])\n",
    "df_test['race'] = encoder.fit_transform(df_test['race'])\n",
    "df_test['sex'] = encoder.fit_transform(df_test['sex'])\n",
    "df_test['native'] = encoder.fit_transform(df_test['native'])\n",
    "df_test['Salary'] = encoder.fit_transform(df_test['Salary'])"
   ]
  },
  {
   "cell_type": "code",
   "execution_count": 11,
   "id": "83cc202f",
   "metadata": {
    "ExecuteTime": {
     "end_time": "2023-02-05T15:24:48.180432Z",
     "start_time": "2023-02-05T15:24:48.149250Z"
    }
   },
   "outputs": [],
   "source": [
    "\n",
    "# Make predictions on the test data\n",
    "X_test = df_test.drop('Salary', axis=1)\n",
    "y_test = df_test['Salary']\n",
    "y_pred = clf.predict(X_test)"
   ]
  },
  {
   "cell_type": "code",
   "execution_count": 12,
   "id": "94978360",
   "metadata": {
    "ExecuteTime": {
     "end_time": "2023-02-05T15:24:59.125375Z",
     "start_time": "2023-02-05T15:24:59.097119Z"
    }
   },
   "outputs": [],
   "source": [
    "# Evaluate the performance on the test data\n",
    "accuracy = accuracy_score(y_test, y_pred)\n",
    "precision = precision_score(y_test, y_pred, average='weighted')\n",
    "recall = recall_score(y_test, y_pred, average='weighted')\n",
    "f1 = f1_score(y_test, y_pred, average='weighted')\n"
   ]
  },
  {
   "cell_type": "code",
   "execution_count": 13,
   "id": "6a5ab559",
   "metadata": {
    "ExecuteTime": {
     "end_time": "2023-02-05T15:25:12.819974Z",
     "start_time": "2023-02-05T15:25:12.809972Z"
    }
   },
   "outputs": [
    {
     "name": "stdout",
     "output_type": "stream",
     "text": [
      "Accuracy: 0.7951527224435591\n",
      "Precision: 0.7773336826203999\n",
      "Recall: 0.7951527224435591\n",
      "F1-score: 0.76769556528239\n"
     ]
    }
   ],
   "source": [
    "print('Accuracy:', accuracy)\n",
    "print('Precision:', precision)\n",
    "print('Recall:', recall)\n",
    "print('F1-score:', f1)"
   ]
  },
  {
   "cell_type": "code",
   "execution_count": null,
   "id": "86f554c8",
   "metadata": {},
   "outputs": [],
   "source": []
  }
 ],
 "metadata": {
  "kernelspec": {
   "display_name": "Python 3 (ipykernel)",
   "language": "python",
   "name": "python3"
  },
  "language_info": {
   "codemirror_mode": {
    "name": "ipython",
    "version": 3
   },
   "file_extension": ".py",
   "mimetype": "text/x-python",
   "name": "python",
   "nbconvert_exporter": "python",
   "pygments_lexer": "ipython3",
   "version": "3.9.13"
  }
 },
 "nbformat": 4,
 "nbformat_minor": 5
}
